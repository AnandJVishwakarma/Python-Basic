{
 "cells": [
  {
   "cell_type": "markdown",
   "metadata": {},
   "source": [
    "# write a program to find the two number in the array of 20 whose product(multiplication) is equal to given number by the user."
   ]
  },
  {
   "cell_type": "code",
   "execution_count": 18,
   "metadata": {},
   "outputs": [],
   "source": [
    "def arr_checker(x,lst):\n",
    "    a=b=0\n",
    "    for i in range(20):\n",
    "        for j in range(i+1,20):\n",
    "            if lst[i]*lst[j]==x:\n",
    "                a=lst[i]\n",
    "                b=lst[j]\n",
    "            else:\n",
    "                j+=1\n",
    "        i+=1\n",
    "    return a,b    \n"
   ]
  },
  {
   "cell_type": "code",
   "execution_count": 19,
   "metadata": {},
   "outputs": [
    {
     "name": "stdout",
     "output_type": "stream",
     "text": [
      "Enter two number: 45\n",
      "(5, 9)\n"
     ]
    }
   ],
   "source": [
    "x=int(input(\"Enter two number: \"))\n",
    "lst=[1,2,3,4,5,6,7,8,9,10,11,12,13,14,15,16,17,18,19,20]\n",
    "print(arr_checker(x,lst))"
   ]
  },
  {
   "cell_type": "code",
   "execution_count": null,
   "metadata": {},
   "outputs": [],
   "source": []
  }
 ],
 "metadata": {
  "kernelspec": {
   "display_name": "Python 3",
   "language": "python",
   "name": "python3"
  },
  "language_info": {
   "codemirror_mode": {
    "name": "ipython",
    "version": 3
   },
   "file_extension": ".py",
   "mimetype": "text/x-python",
   "name": "python",
   "nbconvert_exporter": "python",
   "pygments_lexer": "ipython3",
   "version": "3.8.1"
  }
 },
 "nbformat": 4,
 "nbformat_minor": 4
}
